{
 "cells": [
  {
   "cell_type": "code",
   "execution_count": 6,
   "metadata": {},
   "outputs": [],
   "source": [
    "import math\n",
    "import matplotlib\n",
    "import matplotlib.pyplot as plt\n",
    "import numpy as np\n",
    "import pandas as pd"
   ]
  },
  {
   "cell_type": "code",
   "execution_count": 7,
   "metadata": {},
   "outputs": [],
   "source": [
    "def PlotGraph(df, Title):\n",
    "\n",
    "    fig, ax = plt.subplots()\n",
    "    ax.plot(df.index, df.Terms, marker=\"o\", linestyle = \"\")\n",
    "\n",
    "    ax.set(xlabel='X', ylabel='Y',\n",
    "           title=Title)\n",
    "    ax.grid()\n",
    "\n",
    "    plt.show()\n",
    "\n",
    "    return"
   ]
  },
  {
   "cell_type": "code",
   "execution_count": 8,
   "metadata": {},
   "outputs": [],
   "source": [
    "def AddTerm(df):\n",
    "\n",
    "    N = df.Terms.iloc[-1]\n",
    "    Index = df.index[-1]+1\n",
    "    \n",
    "    if math.gcd(N,Index) == 1:\n",
    "        term = (N+Index+1)\n",
    "    else:\n",
    "        term = int(N/math.gcd(N,Index))\n",
    " \n",
    "    data = [term]\n",
    "    term_df = pd.DataFrame(data, columns = ['Terms'])\n",
    "    df = pd.concat([df, term_df], ignore_index = True)\n",
    "    \n",
    "    return df"
   ]
  },
  {
   "cell_type": "code",
   "execution_count": 9,
   "metadata": {},
   "outputs": [],
   "source": [
    "def Fly(length):\n",
    "    data = [1,1]\n",
    "    df = pd.DataFrame(data, columns = ['Terms']) \n",
    "    \n",
    "    while len(df.index) < length:\n",
    "        df = AddTerm(df)\n",
    "        \n",
    "    \n",
    "    PlotGraph(df,\"Fly\")\n",
    "    return"
   ]
  },
  {
   "cell_type": "code",
   "execution_count": 10,
   "metadata": {},
   "outputs": [
    {
     "name": "stdout",
     "output_type": "stream",
     "text": [
      "How many terms?50\n"
     ]
    },
    {
     "data": {
      "image/png": "[encoded data removed]",
      "text/plain": [
       "<Figure size 432x288 with 1 Axes>"
      ]
     },
     "metadata": {
      "needs_background": "light"
     },
     "output_type": "display_data"
    }
   ],
   "source": [
    "length = int(input(\"How many terms?\"))\n",
    "Fly(length)"
   ]
  },
  {
   "cell_type": "code",
   "execution_count": null,
   "metadata": {},
   "outputs": [],
   "source": []
  },
  {
   "cell_type": "code",
   "execution_count": null,
   "metadata": {},
   "outputs": [],
   "source": []
  }
 ],
 "metadata": {
  "kernelspec": {
   "display_name": "Python 3",
   "language": "python",
   "name": "python3"
  },
  "language_info": {
   "codemirror_mode": {
    "name": "ipython",
    "version": 3
   },
   "file_extension": ".py",
   "mimetype": "text/x-python",
   "name": "python",
   "nbconvert_exporter": "python",
   "pygments_lexer": "ipython3",
   "version": "3.7.3"
  }
 },
 "nbformat": 4,
 "nbformat_minor": 2
}
