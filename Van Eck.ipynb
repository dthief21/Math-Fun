{
 "cells": [
  {
   "cell_type": "code",
   "execution_count": 58,
   "metadata": {},
   "outputs": [],
   "source": [
    "import math\n",
    "import numpy\n",
    "import matplotlib.pyplot as plt"
   ]
  },
  {
   "cell_type": "code",
   "execution_count": 59,
   "metadata": {},
   "outputs": [],
   "source": [
    "def VanEck(start, length):\n",
    "\n",
    "    L = 2\n",
    "    VanE = [start, 0]\n",
    "\n",
    "    while L < length:\n",
    "        x = len(VanE)-1\n",
    "        while x > 0:\n",
    "            if VanE[-1] == VanE[x-1]:     \n",
    "                VanE.append(len(VanE)-x)\n",
    "                x = -1\n",
    "            else:\n",
    "                x -= 1\n",
    "            if x == 0:\n",
    "                VanE.append(0)\n",
    "        L += 1\n",
    "    \n",
    "    return VanE   "
   ]
  },
  {
   "cell_type": "code",
   "execution_count": 75,
   "metadata": {},
   "outputs": [],
   "source": [
    "def Plot(VanE, start, max):\n",
    "\n",
    "    fig, ax = plt.subplots()\n",
    "    plt.plot(VanE, color='black', linewidth = 1)\n",
    "    plt.show()\n",
    "    return\n"
   ]
  },
  {
   "cell_type": "code",
   "execution_count": 81,
   "metadata": {},
   "outputs": [
    {
     "data": {
      "image/png": "[encoded data removed]",
      "text/plain": [
       "<Figure size 432x288 with 1 Axes>"
      ]
     },
     "metadata": {
      "needs_background": "light"
     },
     "output_type": "display_data"
    },
    {
     "name": "stdout",
     "output_type": "stream",
     "text": [
      "0\n"
     ]
    }
   ],
   "source": [
    "VE = []\n",
    "Length = 10000\n",
    "Start = 0\n",
    "End = 1\n",
    "\n",
    "for x in range(Start,End):\n",
    "    Plot(VanEck(x,Length),x,End)\n",
    "    print(x)\n",
    "    "
   ]
  },
  {
   "cell_type": "code",
   "execution_count": null,
   "metadata": {},
   "outputs": [],
   "source": []
  }
 ],
 "metadata": {
  "kernelspec": {
   "display_name": "Python 3",
   "language": "python",
   "name": "python3"
  },
  "language_info": {
   "codemirror_mode": {
    "name": "ipython",
    "version": 3
   },
   "file_extension": ".py",
   "mimetype": "text/x-python",
   "name": "python",
   "nbconvert_exporter": "python",
   "pygments_lexer": "ipython3",
   "version": "3.7.3"
  }
 },
 "nbformat": 4,
 "nbformat_minor": 2
}
